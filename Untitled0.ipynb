{
  "nbformat": 4,
  "nbformat_minor": 0,
  "metadata": {
    "colab": {
      "provenance": [],
      "authorship_tag": "ABX9TyPL7JCsIMGvmGlvIS1FrbKh",
      "include_colab_link": true
    },
    "kernelspec": {
      "name": "python3",
      "display_name": "Python 3"
    },
    "language_info": {
      "name": "python"
    }
  },
  "cells": [
    {
      "cell_type": "markdown",
      "metadata": {
        "id": "view-in-github",
        "colab_type": "text"
      },
      "source": [
        "<a href=\"https://colab.research.google.com/github/rehanzayd/tictactoerehan/blob/main/Untitled0.ipynb\" target=\"_parent\"><img src=\"https://colab.research.google.com/assets/colab-badge.svg\" alt=\"Open In Colab\"/></a>"
      ]
    },
    {
      "cell_type": "code",
      "execution_count": null,
      "metadata": {
        "id": "swP1TRhpy6Vo"
      },
      "outputs": [],
      "source": [
        "def analyzeboard(board)\n",
        "  #check who won\n",
        "  return 0\n",
        "\n",
        "def main()\n",
        "  choice = int(input(\"Enter 1 for single player or 2 for multiplayer\"))\n",
        "  board = [0, 0, 0, 0, 0, 0, 0, 0, 0, 0]\n",
        "  if(choice==1):\n",
        "    #code to play against the ai\n",
        "  else:\n",
        "    #code for multiplayer\n",
        "    (choice==2)\n",
        "\n",
        "  analyzeboard(board)\n",
        "\n",
        "\n"
      ]
    }
  ]
}